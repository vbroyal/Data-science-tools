{
 "cells": [
  {
   "cell_type": "markdown",
   "id": "0daf0479",
   "metadata": {},
   "source": [
    "# Data science tools\n",
    "\n",
    "In this notebook i introduction about data science tools."
   ]
  },
  {
   "cell_type": "markdown",
   "id": "86ad2d19",
   "metadata": {},
   "source": [
    "data science contains following languages.\n",
    "\n",
    "1. python \n",
    "2. R\n",
    "3. scala \n",
    "4. julia"
   ]
  },
  {
   "cell_type": "markdown",
   "id": "36247f63",
   "metadata": {},
   "source": [
    "Data science libraries.\n",
    "\n",
    "TensorFlow\n",
    "NumPy\n",
    "SciPy \n",
    "Pandas\n",
    "Matplotlib \n",
    "Keras\n",
    "SciKit-Learn\n",
    "PyTorch\n",
    "Scrapy"
   ]
  },
  {
   "cell_type": "markdown",
   "id": "757f002c",
   "metadata": {},
   "source": [
    "Data Science tools.\n",
    "\n",
    "Excel\n",
    "Apache Flink\n",
    "PowerBI\n",
    "Google Analytics\n",
    "Python\n",
    "R (RStudio)\n",
    "DataRobot\n",
    "D3.js\n",
    "Microsoft HDInsight\n",
    "Jupyter"
   ]
  },
  {
   "cell_type": "markdown",
   "id": "ad268b02",
   "metadata": {},
   "source": [
    "##  Introducing arithmetic expression examples."
   ]
  },
  {
   "cell_type": "code",
   "execution_count": 1,
   "id": "e2d1dadc",
   "metadata": {},
   "outputs": [
    {
     "name": "stdout",
     "output_type": "stream",
     "text": [
      "100\n"
     ]
    }
   ],
   "source": [
    "#multiply and add numbers. \n",
    "print((9*10)+10)"
   ]
  },
  {
   "cell_type": "code",
   "execution_count": 2,
   "id": "85d3b4c4",
   "metadata": {},
   "outputs": [
    {
     "name": "stdout",
     "output_type": "stream",
     "text": [
      "3.3333333333333335\n"
     ]
    }
   ],
   "source": [
    "#convert minutes to hours.\n",
    "print(200/60)"
   ]
  },
  {
   "cell_type": "markdown",
   "id": "f0903002",
   "metadata": {},
   "source": [
    "### List Objectives. "
   ]
  },
  {
   "cell_type": "markdown",
   "id": "3eea2114",
   "metadata": {},
   "source": [
    "Collecting data\n",
    "Processing data\n",
    "Exploring and visualizing data\n",
    "Analyzing (data) and/or applying machine learning (to data)\n",
    "Deciding (or planning) based on acquired insight"
   ]
  },
  {
   "cell_type": "markdown",
   "id": "aeedcd5c",
   "metadata": {},
   "source": [
    "#### Author’s name. \n",
    "vats balar"
   ]
  }
 ],
 "metadata": {
  "kernelspec": {
   "display_name": "Python 3 (ipykernel)",
   "language": "python",
   "name": "python3"
  },
  "language_info": {
   "codemirror_mode": {
    "name": "ipython",
    "version": 3
   },
   "file_extension": ".py",
   "mimetype": "text/x-python",
   "name": "python",
   "nbconvert_exporter": "python",
   "pygments_lexer": "ipython3",
   "version": "3.9.13"
  }
 },
 "nbformat": 4,
 "nbformat_minor": 5
}
